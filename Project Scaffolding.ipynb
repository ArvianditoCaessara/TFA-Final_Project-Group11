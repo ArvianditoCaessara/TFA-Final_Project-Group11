{
 "cells": [
  {
   "cell_type": "markdown",
   "id": "32f8ca24",
   "metadata": {},
   "source": [
    "# Understanding Hired Rides in NYC\n",
    "\n",
    "_[Project prompt](https://docs.google.com/document/d/1VERPjEZcC1XSs4-02aM-DbkNr_yaJVbFjLJxaYQswqA/edit#)_\n",
    "\n",
    "_This scaffolding notebook may be used to help setup your final project. It's **totally optional** whether you make use of this or not._\n",
    "\n",
    "_If you do use this notebook, everything provided is optional as well - you may remove or add prose and code as you wish._\n",
    "\n",
    "_Anything in italics (prose) or comments (in code) is meant to provide you with guidance. **Remove the italic lines and provided comments** before submitting the project, if you choose to use this scaffolding. We don't need the guidance when grading._\n",
    "\n",
    "_**All code below should be consider \"pseudo-code\" - not functional by itself, and only a suggestion at the approach.**_"
   ]
  },
  {
   "cell_type": "markdown",
   "id": "25627e8d",
   "metadata": {},
   "source": [
    "## Requirements\n",
    "\n",
    "_A checklist of requirements to keep you on track. Remove this whole cell before submitting the project._\n",
    "\n",
    "* Code clarity: make sure the code conforms to:\n",
    "    * [ ] [PEP 8](https://peps.python.org/pep-0008/) - You might find [this resource](https://realpython.com/python-pep8/) helpful as well as [this](https://github.com/dnanhkhoa/nb_black) or [this](https://jupyterlab-code-formatter.readthedocs.io/en/latest/) tool\n",
    "    * [ ] [PEP 257](https://peps.python.org/pep-0257/)\n",
    "    * [ ] Break each task down into logical functions\n",
    "* The following files are submitted for the project (see the project's GDoc for more details):\n",
    "    * [ ] `README.md`\n",
    "    * [ ] `requirements.txt`\n",
    "    * [ ] `.gitignore`\n",
    "    * [ ] `schema.sql`\n",
    "    * [ ] 6 query files (using the `.sql` extension), appropriately named for the purpose of the query\n",
    "    * [x] Jupyter Notebook containing the project (this file!)\n",
    "* [x] You can edit this cell and add a `x` inside the `[ ]` like this task to denote a completed task"
   ]
  },
  {
   "cell_type": "markdown",
   "id": "2f75fd94",
   "metadata": {},
   "source": [
    "## Project Setup"
   ]
  },
  {
   "cell_type": "code",
   "execution_count": 1,
   "id": "66dcde05",
   "metadata": {},
   "outputs": [],
   "source": [
    "# all import statements needed for the project, for example:\n",
    "\n",
    "import math\n",
    "import bs4\n",
    "import matplotlib.pyplot as plt\n",
    "import pandas as pd\n",
    "import requests\n",
    "import re\n",
    "import pyarrow.parquet as pq\n",
    "import geopandas as gpd\n",
    "#import os\n",
    "from math import sin, cos, sqrt, atan2, radians"
   ]
  },
  {
   "cell_type": "code",
   "execution_count": 2,
   "id": "8b622a58",
   "metadata": {},
   "outputs": [],
   "source": [
    "# any general notebook setup, like log formatting\n",
    "import warnings\n",
    "warnings.filterwarnings(\"ignore\")"
   ]
  },
  {
   "cell_type": "code",
   "execution_count": 3,
   "id": "3f1242c4",
   "metadata": {},
   "outputs": [],
   "source": [
    "# any constants you might need, for example:\n",
    "\n",
    "TAXI_URL = \"https://www1.nyc.gov/site/tlc/about/tlc-trip-record-data.page\"\n",
    "# add other constants to refer to any local data, e.g. uber & weather\n",
    "UBER_CSV = \"uber_rides_sample.csv\"\n",
    "\n",
    "NEW_YORK_BOX_COORDS = ((40.560445, -74.242330), (40.908524, -73.717047))\n",
    "\n",
    "DATABASE_URL = \"sqlite:///project.db\"\n",
    "DATABASE_SCHEMA_FILE = \"schema.sql\"\n",
    "QUERY_DIRECTORY = \"queries\""
   ]
  },
  {
   "cell_type": "markdown",
   "id": "26ad10ea",
   "metadata": {},
   "source": [
    "## Part 1: Data Preprocessing"
   ]
  },
  {
   "cell_type": "markdown",
   "id": "ecf38168",
   "metadata": {},
   "source": [
    "_A checklist of requirements to keep you on track. Remove this whole cell before submitting the project. The order of these tasks aren't necessarily the order in which they need to be done. It's okay to do them in an order that makes sense to you._\n",
    "\n",
    "* [ ] Define a function that calculates the distance between two coordinates in kilometers that **only uses the `math` module** from the standard library.\n",
    "* [ ] Taxi data:\n",
    "    * [ ] Use the `re` module, and the packages `requests`, BeautifulSoup (`bs4`), and (optionally) `pandas` to programmatically download the required CSV files & load into memory.\n",
    "    * You may need to do this one file at a time - download, clean, sample. You can cache the sampling by saving it as a CSV file (and thereby freeing up memory on your computer) before moving onto the next file. \n",
    "* [ ] Weather & Uber data:\n",
    "    * [ ] Download the data manually in the link provided in the project doc.\n",
    "* [ ] All data:\n",
    "    * [ ] Load the data using `pandas`\n",
    "    * [ ] Clean the data, including:\n",
    "        * Remove unnecessary columns\n",
    "        * Remove invalid data points (take a moment to consider what's invalid)\n",
    "        * Normalize column names\n",
    "        * (Taxi & Uber data) Remove trips that start and/or end outside the designated [coordinate box](http://bboxfinder.com/#40.560445,-74.242330,40.908524,-73.717047)\n",
    "    * [ ] (Taxi data) Sample the data so that you have roughly the same amount of data points over the given date range for both Taxi data and Uber data.\n",
    "* [ ] Weather data:\n",
    "    * [ ] Split into two `pandas` DataFrames: one for required hourly data, and one for the required daily daya.\n",
    "    * [ ] You may find that the weather data you need later on does not exist at the frequency needed (daily vs hourly). You may calculate/generate samples from one to populate the other. Just document what you’re doing so we can follow along. "
   ]
  },
  {
   "cell_type": "markdown",
   "id": "32074561",
   "metadata": {},
   "source": [
    "### Calculating distance\n",
    "_**TODO:** Write some prose that tells the reader what you're about to do here._"
   ]
  },
  {
   "cell_type": "code",
   "execution_count": 4,
   "id": "4cbbe6cc",
   "metadata": {},
   "outputs": [],
   "source": [
    "def calculate_distance(start_lat, start_lon, end_lat, end_lon):\n",
    "    R = 6373.0\n",
    "\n",
    "    lat1 = radians(start_lat)\n",
    "    lon1 = radians(start_lon)\n",
    "    lat2 = radians(end_lat)\n",
    "    lon2 = radians(end_lon)\n",
    "\n",
    "    dlon = lon2 - lon1\n",
    "    dlat = lat2 - lat1\n",
    "\n",
    "    a = sin(dlat / 2)**2 + cos(lat1) * cos(lat2) * sin(dlon / 2)**2\n",
    "    c = 2 * atan2(sqrt(a), sqrt(1 - a))\n",
    "\n",
    "    distance = R * c\n",
    "    \n",
    "    return round(distance, 2)"
   ]
  },
  {
   "cell_type": "code",
   "execution_count": 5,
   "id": "6d6abf52",
   "metadata": {},
   "outputs": [],
   "source": [
    "def add_distance_column(df):\n",
    "    distance = []\n",
    "    \n",
    "    for i in df.index:\n",
    "        estimated_distance = calculate_distance(df[\"pickup_latitude\"][i], df[\"pickup_longitude\"][i], df[\"dropoff_latitude\"][i], df[\"dropoff_longitude\"][i])\n",
    "        distance.append(estimated_distance)\n",
    "        \n",
    "    df[\"calculated_distance\"] = distance\n",
    "    \n",
    "    newx = 0\n",
    "    \n",
    "    return df"
   ]
  },
  {
   "cell_type": "markdown",
   "id": "93daa717",
   "metadata": {},
   "source": [
    "### Processing Taxi Data\n",
    "\n",
    "_**TODO:** Write some prose that tells the reader what you're about to do here._"
   ]
  },
  {
   "cell_type": "code",
   "execution_count": 6,
   "id": "cbd0d198",
   "metadata": {},
   "outputs": [],
   "source": [
    "def find_taxi_csv_urls():\n",
    "    TAXI_URL = \"https://www.nyc.gov/site/tlc/about/tlc-trip-record-data.page\"\n",
    "    \n",
    "    response = requests.get(TAXI_URL)\n",
    "    html = response.content\n",
    "    data = []\n",
    "    soup = bs4.BeautifulSoup(html, \"html.parser\")\n",
    "    for link in soup(\"a\"):\n",
    "        name = link.get(\"title\")\n",
    "        date = link.get(\"href\")\n",
    "        date_pattern = r'201[012345]|2009'\n",
    "        if name == \"Yellow Taxi Trip Records\" and re.search(date_pattern, date):\n",
    "            if not re.search(r'2015\\-0[789]|2015\\-1[012]', date):\n",
    "                data.append(link.get(\"href\"))\n",
    "    return data"
   ]
  },
  {
   "cell_type": "code",
   "execution_count": 7,
   "id": "89ad2f3a",
   "metadata": {},
   "outputs": [],
   "source": [
    "def get_lat_lon_from_loc():\n",
    "    find_lat_lon = gpd.read_file(\"taxi_zones/taxi_zones.shp\")\n",
    "  \n",
    "    find_lat_lon = find_lat_lon.to_crs(4326)\n",
    "    lon = find_lat_lon.centroid.x \n",
    "    lat = find_lat_lon.centroid.y\n",
    "    find_lat_lon[\"lon\"] = lon\n",
    "    find_lat_lon[\"lat\"] = lat\n",
    "\n",
    "    return find_lat_lon\n",
    "    "
   ]
  },
  {
   "cell_type": "code",
   "execution_count": 8,
   "id": "459739ca",
   "metadata": {},
   "outputs": [],
   "source": [
    "def filter_lat_lon(df):\n",
    "    lon_border = [-74.242330, -73.717047]\n",
    "    lat_border = [40.560445, 40.908524]\n",
    "    \n",
    "    deleted_row = []\n",
    "    \n",
    "    for i in df.index:\n",
    "        if df[\"pickup_longitude\"][i] < lon_border[0] or df[\"pickup_longitude\"][i] > lon_border[1] or df[\"dropoff_longitude\"][i] < lon_border[0] or df[\"dropoff_longitude\"][i] > lon_border[1]:\n",
    "            deleted_row.append(i)\n",
    "            \n",
    "        elif df[\"pickup_latitude\"][i] < lat_border[0] or df[\"pickup_latitude\"][i] > lat_border[1] or df[\"dropoff_latitude\"][i] < lat_border[0] or df[\"dropoff_latitude\"][i] > lat_border[1]:\n",
    "            deleted_row.append(i)\n",
    "            \n",
    "            \n",
    "    df = df.drop(labels = deleted_row, axis=0)\n",
    "    \n",
    "    return df.reset_index()\n",
    "    "
   ]
  },
  {
   "cell_type": "code",
   "execution_count": 9,
   "id": "2f40130a",
   "metadata": {},
   "outputs": [],
   "source": [
    "def get_and_clean_month_taxi_data(url):\n",
    "    \n",
    "    # Check if we already have the data in local, otherwise download it\n",
    "    file_name = url[-31:-1]\n",
    "    \n",
    "    for i in os.listdir('./taxidata'):\n",
    "        if i == file_name:\n",
    "            df = pd.read_parquet(f\"taxidata/{file_name}\", engine='pyarrow')\n",
    "            return df\n",
    "    \n",
    "    \n",
    "    # Download and preprocessing data\n",
    "    find_lat_lon = get_lat_lon_from_loc() #get the lat-lon form .shp file\n",
    "    \n",
    "    # Read the data from url\n",
    "    response = requests.get(url, stream=True)\n",
    "    with open(f\"taxidata/{url[-31:-1]}\", \"wb\") as f:\n",
    "        for chunk in response.iter_content(chunk_size=1024):\n",
    "            if chunk:\n",
    "                f.write(chunk)\n",
    "    df = pd.read_parquet(f\"taxidata/{url[-31:-1]}\", engine='pyarrow') #Reading the data\n",
    "    df = df.sample(n=2564).reset_index() #Take 2564 random sample\n",
    "    \n",
    "    # Rename the columns\n",
    "    if 'Start_Lon' in df.columns : #2009\n",
    "        df = df[[\"Trip_Pickup_DateTime\", \"Trip_Distance\", \"Start_Lon\", \"Start_Lat\", \"End_Lon\", \"End_Lat\"]]\n",
    "        df.rename(columns={\"Trip_Pickup_DateTime\": 'date_time', \"Trip_Distance\": 'trip_distance', \"Start_Lon\": 'pickup_longitude', \"Start_Lat\": 'pickup_latitude', \"End_Lon\": 'dropoff_longitude', \"End_Lat\": 'dropoff_latitude'}, inplace=True)\n",
    "        \n",
    "    elif 'pickup_longitude' in df.columns : #2010\n",
    "        df = df[[\"pickup_datetime\", \"trip_distance\", \"pickup_longitude\", \"pickup_latitude\", \"dropoff_longitude\", \"dropoff_latitude\"]]\n",
    "        df.rename(columns={\"pickup_datetime\": 'date_time', \"trip_distance\": 'trip_distance'}, inplace=True)\n",
    "\n",
    "    else:     \n",
    "        if \"tpep_pickup_datetime\" in df.columns : #2011-2014\n",
    "            df = df[[\"tpep_pickup_datetime\", \"trip_distance\", \"PULocationID\", \"DOLocationID\"]]\n",
    "            df.rename(columns={\"tpep_pickup_datetime\": 'date_time'}, inplace=True)\n",
    "        \n",
    "        else: df = df[[\"date_time\", \"trip_distance\", \"PULocationID\", \"DOLocationID\"]] #2015\n",
    "            \n",
    "            \n",
    "        # Finding the lat-lon using shp file\n",
    "        start_lon = []\n",
    "        start_lat = []\n",
    "        end_lon = []\n",
    "        end_lat = []\n",
    "        \n",
    "        for i in range(len(df[\"PULocationID\"])):\n",
    "            start_point = df[\"PULocationID\"][i]\n",
    "            end_point = df[\"DOLocationID\"][i]\n",
    "            \n",
    "            if df[\"PULocationID\"][i] < 264 and df[\"DOLocationID\"][i] < 264: #Filter for NYC Area only\n",
    "                index_location = find_lat_lon[find_lat_lon[\"LocationID\"] == start_point].index.values[0] \n",
    "                start_lon.append(float(find_lat_lon[\"lon\"][index_location]))\n",
    "                start_lat.append(float(find_lat_lon[\"lat\"][index_location]))\n",
    "                \n",
    "                index_location = find_lat_lon[find_lat_lon[\"LocationID\"] == end_point].index.values[0] \n",
    "                end_lon.append(float(find_lat_lon[\"lon\"][index_location]))\n",
    "                end_lat.append(float(find_lat_lon[\"lat\"][index_location]))\n",
    "                \n",
    "            else: # Area outside NYC\n",
    "                start_lon.append(0)\n",
    "                start_lat.append(0)\n",
    "                end_lon.append(0)\n",
    "                end_lat.append(0)\n",
    "            \n",
    "                      \n",
    "        df[\"pickup_longitude\"] = start_lon\n",
    "        df[\"pickup_latitude\"] = start_lat\n",
    "        df[\"dropoff_longitude\"] = end_lon\n",
    "        df[\"dropoff_latitude\"] = end_lat\n",
    "        \n",
    "        df = df.drop([\"PULocationID\", \"DOLocationID\"], axis=1)\n",
    "        \n",
    "    # Filter the lat-lon between (40.560445, -74.242330) and (40.908524, -73.717047)\n",
    "    df = filter_lat_lon(df)\n",
    "    \n",
    "    # Calculate distance and add calculated_distance column\n",
    "    df = add_distance_column(df)\n",
    "    \n",
    "    # Re-save the file\n",
    "    df.to_parquet(f\"taxidata/{url[-31:-1]}\")\n",
    "    \n",
    "    return df            \n",
    "    "
   ]
  },
  {
   "cell_type": "code",
   "execution_count": null,
   "id": "f4c49a5e",
   "metadata": {},
   "outputs": [],
   "source": [
    "url = 'https://d37ci6vzurychx.cloudfront.net/trip-data/yellow_tripdata_2011-02.parquet'\n",
    "get_and_clean_month_taxi_data(url)"
   ]
  },
  {
   "cell_type": "code",
   "execution_count": 10,
   "id": "35c9c0cd",
   "metadata": {},
   "outputs": [],
   "source": [
    "def get_and_clean_taxi_data():\n",
    "    all_taxi_dataframes = []\n",
    "    \n",
    "    all_csv_urls = find_taxi_csv_urls()\n",
    "    for csv_url in all_csv_urls:\n",
    "        # Get and clean the data from local or url\n",
    "        dataframe = get_and_clean_month_taxi_data(csv_url)\n",
    "        \n",
    "        # Put all the dataframe into a list\n",
    "        all_taxi_dataframes.append(dataframe)\n",
    "        \n",
    "    # Create one gigantic dataframe with data from every month needed\n",
    "    taxi_data = pd.concat(all_taxi_dataframes, ignore_index=True)\n",
    "    return taxi_data"
   ]
  },
  {
   "cell_type": "code",
   "execution_count": null,
   "id": "0cb31683",
   "metadata": {},
   "outputs": [],
   "source": [
    "get_and_clean_taxi_data()"
   ]
  },
  {
   "cell_type": "markdown",
   "id": "094b4d6d",
   "metadata": {},
   "source": [
    "### Processing Uber Data\n",
    "\n",
    "_**TODO:** Write some prose that tells the reader what you're about to do here._"
   ]
  },
  {
   "cell_type": "code",
   "execution_count": null,
   "id": "7c58e3a2",
   "metadata": {},
   "outputs": [],
   "source": [
    "def load_and_clean_uber_data(csv_file):\n",
    "    df = pd.read_csv(csv_file)\n",
    "    df.drop(df.columns[[0, 1, 2, 8]], axis=1,inplace=True)\n",
    "    return df"
   ]
  },
  {
   "cell_type": "code",
   "execution_count": null,
   "id": "f836f118",
   "metadata": {},
   "outputs": [],
   "source": [
    "def get_uber_data():\n",
    "    uber_dataframe = load_and_clean_uber_data(UBER_CSV)\n",
    "    add_distance_column(uber_dataframe)\n",
    "    return uber_dataframe"
   ]
  },
  {
   "cell_type": "markdown",
   "id": "45a15cbb",
   "metadata": {},
   "source": [
    "### Processing Weather Data\n",
    "\n",
    "_**TODO:** Write some prose that tells the reader what you're about to do here._"
   ]
  },
  {
   "cell_type": "code",
   "execution_count": null,
   "id": "76e864ab",
   "metadata": {},
   "outputs": [],
   "source": [
    "def clean_month_weather_data_hourly(csv_file):\n",
    "    df2 = pd.read_csv('weatherdata/' + csv_file)\n",
    "    df2 = df2[['DATE', 'LATITUDE', 'LONGITUDE', 'HourlyPrecipitation', 'HourlyWindSpeed']]\n",
    "    return df2"
   ]
  },
  {
   "cell_type": "code",
   "execution_count": null,
   "id": "0687581f",
   "metadata": {},
   "outputs": [],
   "source": [
    "def clean_month_weather_data_daily(csv_file):\n",
    "    df3 = pd.read_csv('weatherdata/' + csv_file)\n",
    "    df3 = df3[['DATE', 'LATITUDE', 'LONGITUDE', 'DailyAverageWindSpeed']]\n",
    "    return df3"
   ]
  },
  {
   "cell_type": "code",
   "execution_count": null,
   "id": "3ef8945d",
   "metadata": {},
   "outputs": [],
   "source": [
    "def load_and_clean_weather_data():\n",
    "    hourly_dataframes = []\n",
    "    daily_dataframes = []\n",
    "    \n",
    "    # add some way to find all weather CSV files\n",
    "    # or just add the name/paths manually\n",
    "    weather_csv_files = [\"2009_weather.csv\", \"2010_weather.csv\", \"2011_weather.csv\", \"2012_weather.csv\", \"2013_weather.csv\", \"2014_weather.csv\", \"2015_weather.csv\"]\n",
    "    \n",
    "    for csv_file in weather_csv_files:\n",
    "        hourly_dataframe = clean_month_weather_data_hourly(csv_file)\n",
    "        daily_dataframe = clean_month_weather_data_daily(csv_file)\n",
    "        hourly_dataframes.append(hourly_dataframe)\n",
    "        daily_dataframes.append(daily_dataframe)\n",
    "        \n",
    "    # create two dataframes with hourly & daily data from every month\n",
    "    hourly_data = pd.concat(hourly_dataframes)\n",
    "    daily_data = pd.concat(daily_dataframes)\n",
    "    \n",
    "    return hourly_data, daily_data"
   ]
  },
  {
   "cell_type": "markdown",
   "id": "f900f7aa",
   "metadata": {},
   "source": [
    "### Process All Data\n",
    "\n",
    "_This is where you can actually execute all the required functions._\n",
    "\n",
    "_**TODO:** Write some prose that tells the reader what you're about to do here._"
   ]
  },
  {
   "cell_type": "code",
   "execution_count": null,
   "id": "f7cd53a6",
   "metadata": {},
   "outputs": [],
   "source": [
    "taxi_data = get_and_clean_taxi_data()\n",
    "uber_data = get_uber_data()\n",
    "hourly_weather_data, daily_weather_data = load_and_clean_weather_data()"
   ]
  },
  {
   "cell_type": "markdown",
   "id": "dd101f11",
   "metadata": {},
   "source": [
    "## Part 2: Storing Cleaned Data\n",
    "\n",
    "_Write some prose that tells the reader what you're about to do here._"
   ]
  },
  {
   "cell_type": "code",
   "execution_count": null,
   "id": "d2bea0ff",
   "metadata": {},
   "outputs": [],
   "source": [
    "import sqlite3\n",
    "connection = sqlite3.connect(\"final_project.db\")\n",
    "connection"
   ]
  },
  {
   "cell_type": "code",
   "execution_count": null,
   "id": "5f41e54b",
   "metadata": {},
   "outputs": [],
   "source": [
    "# if using SQL (as opposed to SQLAlchemy), define the commands \n",
    "# to create your 4 tables/dataframes\n",
    "HOURLY_WEATHER_SCHEMA = \"\"\"\n",
    "CREATE TABLE IF NOT EXISTS hourly_weather\n",
    "(\n",
    "    id INTEGER PRIMARY KEY,\n",
    "    DATE TIMESTAMP,\n",
    "    HourlyPrecipitation FLOAT,\n",
    "    HourlyWindSpeed FLOAT\n",
    ");\n",
    "\"\"\"\n",
    "\n",
    "DAILY_WEATHER_SCHEMA = \"\"\"\n",
    "CREATE TABLE IF NOT EXISTS daily_weather\n",
    "(\n",
    "    id INTEGER PRIMARY KEY,\n",
    "    DATE TIMESTAMP,\n",
    "    DailyPrecipitation FLOAT,\n",
    "    DailyAverageWindSpeed FLOAT\n",
    ");\n",
    "\"\"\"\n",
    "\n",
    "TAXI_TRIPS_SCHEMA = \"\"\"\n",
    "CREATE TABLE IF NOT EXISTS taxi_trips\n",
    "(\n",
    "    id INTEGER PRIMARY KEY,\n",
    "    tpep_pickup_datetime TIMESTAMP,\n",
    "    tpep_dropoff_datetime TIMESTAMP,\n",
    "    trip_distance FLOAT,\n",
    "    total_amount FLOAT\n",
    ");\n",
    "\"\"\"\n",
    "\n",
    "UBER_TRIPS_SCHEMA = \"\"\"\n",
    "CREATE TABLE IF NOT EXISTS uber_trips\n",
    "(\n",
    "    id INTEGER PRIMARY KEY,\n",
    "    fare_amount FLOAT,\n",
    "    pickup_datetime TIMESTAMP,\n",
    "    pickup_longitude FLOAT,\n",
    "    pickup_latitude FLOAT,\n",
    "    dropoff_longitude FLOAT,\n",
    "    dropoff_latitude FLOAT,\n",
    "    trip_distance FLOAT\n",
    ");\n",
    "\"\"\""
   ]
  },
  {
   "cell_type": "code",
   "execution_count": null,
   "id": "02eccdba",
   "metadata": {},
   "outputs": [],
   "source": [
    "# create that required schema.sql file\n",
    "with open('schema.sql', \"w\") as f:\n",
    "    f.write(HOURLY_WEATHER_SCHEMA)\n",
    "    f.write(DAILY_WEATHER_SCHEMA)\n",
    "    f.write(TAXI_TRIPS_SCHEMA)\n",
    "    f.write(UBER_TRIPS_SCHEMA)"
   ]
  },
  {
   "cell_type": "code",
   "execution_count": null,
   "id": "dc82fdfc",
   "metadata": {},
   "outputs": [],
   "source": [
    "# create the tables with the schema files\n",
    "with connection:\n",
    "    connection.execute(HOURLY_WEATHER_SCHEMA)\n",
    "with connection:\n",
    "    connection.execute(DAILY_WEATHER_SCHEMA)\n",
    "with connection:\n",
    "    connection.execute(TAXI_TRIPS_SCHEMA)\n",
    "with connection:\n",
    "    connection.execute(UBER_TRIPS_SCHEMA)"
   ]
  },
  {
   "cell_type": "markdown",
   "id": "c122964f",
   "metadata": {},
   "source": [
    "### Add Data to Database\n",
    "\n",
    "_**TODO:** Write some prose that tells the reader what you're about to do here._"
   ]
  },
  {
   "cell_type": "code",
   "execution_count": null,
   "id": "137365e9",
   "metadata": {},
   "outputs": [],
   "source": [
    "def write_dataframes_to_table(table_to_df_dict):\n",
    "    for key, value in table_to_df_dict.items():\n",
    "        value.to_sql(name=key, con=connection, if_exists='append', index=False)\n",
    "    \n",
    "    return 'Success adding data'"
   ]
  },
  {
   "cell_type": "code",
   "execution_count": null,
   "id": "45d6c06c",
   "metadata": {},
   "outputs": [],
   "source": [
    "map_table_name_to_dataframe = {\n",
    "    \"taxi_trips\": taxi_data\n",
    "    #\"uber_trips\": uber_data,\n",
    "    #\"hourly_weather\": hourly_data\n",
    "    #\"daily_weather\": daily_data\n",
    "}"
   ]
  },
  {
   "cell_type": "code",
   "execution_count": null,
   "id": "2bb6e42e",
   "metadata": {},
   "outputs": [],
   "source": [
    "write_dataframes_to_table(map_table_name_to_dataframe)"
   ]
  },
  {
   "cell_type": "markdown",
   "id": "8cb6e33e",
   "metadata": {},
   "source": [
    "## Part 3: Understanding the Data"
   ]
  },
  {
   "cell_type": "markdown",
   "id": "b4753fcd",
   "metadata": {},
   "source": [
    "_A checklist of requirements to keep you on track. Remove this whole cell before submitting the project. The order of these tasks aren't necessarily the order in which they need to be done. It's okay to do them in an order that makes sense to you._\n",
    "\n",
    "* [ ] For 01-2009 through 06-2015, what hour of the day was the most popular to take a yellow taxi? The result should have 24 bins.\n",
    "* [ ] For the same time frame, what day of the week was the most popular to take an uber? The result should have 7 bins.\n",
    "* [ ] What is the 95% percentile of distance traveled for all hired trips during July 2013?\n",
    "* [ ] What were the top 10 days with the highest number of hired rides for 2009, and what was the average distance for each day?\n",
    "* [ ] Which 10 days in 2014 were the windiest, and how many hired trips were made on those days?\n",
    "* [ ] During Hurricane Sandy in NYC (Oct 29-30, 2012) and the week leading up to it, how many trips were taken each hour, and for each hour, how much precipitation did NYC receive and what was the sustained wind speed?"
   ]
  },
  {
   "cell_type": "code",
   "execution_count": null,
   "id": "6a849e92",
   "metadata": {},
   "outputs": [],
   "source": [
    "def write_query_to_file(query, outfile):\n",
    "    with open(outfile, \"w\") as f:\n",
    "        f.write(query)\n",
    "    \n",
    "    return f'Succes generate {outfile}'"
   ]
  },
  {
   "cell_type": "markdown",
   "id": "ee70a777",
   "metadata": {},
   "source": [
    "### Query N\n",
    "\n",
    "_**TODO:** Write some prose that tells the reader what you're about to do here._\n",
    "\n",
    "_Repeat for each query_"
   ]
  },
  {
   "cell_type": "code",
   "execution_count": null,
   "id": "77020452",
   "metadata": {},
   "outputs": [],
   "source": [
    "#Q1) For 01-2009 through 06-2015, what hour of the day was the most popular to take a yellow taxi? \n",
    "#The result should have 24 bins.\n",
    "\n",
    "QUERY_1 = \"\"\"\n",
    "SELECT \n",
    "    DISTINCT strftime('%H', tpep_pickup_datetime) AS time,\n",
    "    COUNT (*)\n",
    "FROM taxi_trips\n",
    "WHERE tpep_pickup_datetime between '2009-01-01' AND '2015-06-30'\n",
    "GROUP BY time\n",
    "\"\"\""
   ]
  },
  {
   "cell_type": "code",
   "execution_count": null,
   "id": "a2ef04df",
   "metadata": {},
   "outputs": [],
   "source": [
    "# TOBEDELETED Read Data\n",
    "with connection:\n",
    "    result = connection.execute(QUERY_1)\n",
    "\n",
    "for row in result:\n",
    "    print(row)"
   ]
  },
  {
   "cell_type": "code",
   "execution_count": null,
   "id": "1ed9cace",
   "metadata": {},
   "outputs": [],
   "source": [
    "write_query_to_file(QUERY_1, \"question_1.sql\")"
   ]
  },
  {
   "cell_type": "code",
   "execution_count": null,
   "id": "3b9c8902",
   "metadata": {},
   "outputs": [],
   "source": [
    "#Q2) For the same time frame, what day of the week was the most popular to take an uber? \n",
    "#The result should have 7 bins.\n",
    "\n",
    "QUERY_2 = \"\"\"\n",
    "SELECT  case cast (strftime('%w', pickup_datetime) as integer)\n",
    "  when 0 then 'Sunday'\n",
    "  when 1 then 'Monday'\n",
    "  when 2 then 'Tuesday'\n",
    "  when 3 then 'Wednesday'\n",
    "  when 4 then 'Thursday'\n",
    "  when 5 then 'Friday'\n",
    "  else 'Saturday' end as day,\n",
    "  COUNT(*)\n",
    "FROM uber_trips\n",
    "GROUP BY day\n",
    "ORDER BY cast (strftime('%w', pickup_datetime) as integer) ASC\n",
    "\"\"\"\n",
    "\n",
    "# WHERE tpep_pickup_datetime between '2009-01-01' AND '2015-06-30'"
   ]
  },
  {
   "cell_type": "code",
   "execution_count": null,
   "id": "85904b71",
   "metadata": {},
   "outputs": [],
   "source": [
    "# TOBEDELETED Read Data\n",
    "with connection:\n",
    "    result = connection.execute(QUERY_2)\n",
    "\n",
    "for row in result:\n",
    "    print(row)"
   ]
  },
  {
   "cell_type": "code",
   "execution_count": null,
   "id": "9d989dd7",
   "metadata": {},
   "outputs": [],
   "source": [
    "write_query_to_file(QUERY_2, \"question_2.sql\")"
   ]
  },
  {
   "cell_type": "code",
   "execution_count": null,
   "id": "1a0a1236",
   "metadata": {},
   "outputs": [],
   "source": [
    "#Q3) What is the 95% percentile of distance traveled for all hired trips during July 2013?\n",
    "# TBD! FILTER DATE BLM, MASIH BINGUNG MAU YG DI OERCENTILE\n",
    "\n",
    "QUERY_3 = \"\"\"\n",
    "SELECT \n",
    "    trip_distance,\n",
    "    percent_rank\n",
    "FROM (\n",
    "    SELECT\n",
    "        date\n",
    "        trip_distance,\n",
    "        PERCENT_RANK() OVER (ORDER BY trip_distance DESC) percent_rank\n",
    "    FROM (\n",
    "        SELECT date(tpep_pickup_datetime) as date, trip_distance\n",
    "        FROM taxi_trips\n",
    "        UNION ALL\n",
    "        SELECT date(pickup_datetime) as date, trip_distance\n",
    "        FROM uber_trips)\n",
    "    WHERE date between '2013-07-01' AND '2013-07-31'\n",
    "    )\n",
    "WHERE percent_rank >= 0.95\n",
    "\"\"\""
   ]
  },
  {
   "cell_type": "code",
   "execution_count": null,
   "id": "0d41c3a5",
   "metadata": {},
   "outputs": [],
   "source": [
    "#Q3) What is the 95% percentile of distance traveled for all hired trips during July 2013?\n",
    "# TBD! FILTER DATE BLM, MASIH BINGUNG MAU YG DI OERCENTILE\n",
    "\n",
    "QUERY_3 = \"\"\"\n",
    "\n",
    "    SELECT\n",
    "        trip_distance,\n",
    "        PERCENT_RANK() OVER (ORDER BY trip_distance DESC) percent_rank\n",
    "    FROM (\n",
    "        SELECT date(tpep_pickup_datetime) as date, trip_distance\n",
    "        FROM taxi_trips\n",
    "        WHERE date between '2013-07-01' AND '2013-07-31'\n",
    "        UNION ALL\n",
    "        SELECT date(pickup_datetime) as date, trip_distance\n",
    "        FROM uber_trips\n",
    "        WHERE date between '2013-07-01' AND '2013-07-31'\n",
    "        )\n",
    "    \n",
    "\n",
    "\"\"\""
   ]
  },
  {
   "cell_type": "code",
   "execution_count": null,
   "id": "f6a26ce6",
   "metadata": {},
   "outputs": [],
   "source": [
    "QUERY_3 = \"\"\"\n",
    "SELECT\n",
    "        trip_distance,\n",
    "        PERCENT_RANK() OVER (ORDER BY trip_distance DESC) percent_rank\n",
    "        \n",
    "FROM (\n",
    "\n",
    "        SELECT date(tpep_pickup_datetime) as date, trip_distance\n",
    "        FROM taxi_trips\n",
    "        \n",
    "        UNION ALL\n",
    "        SELECT date(pickup_datetime) as date, trip_distance\n",
    "        FROM uber_trips\n",
    "       \n",
    "   \n",
    ")\n",
    "\"\"\"\n",
    "#PERCENT_RANK() OVER (ORDER BY trip_distance DESC) percent_rank"
   ]
  },
  {
   "cell_type": "code",
   "execution_count": null,
   "id": "219138f1",
   "metadata": {},
   "outputs": [],
   "source": [
    "# TOBEDELETED Read Data\n",
    "with connection:\n",
    "    result = connection.execute(QUERY_3)\n",
    "\n",
    "for row in result:\n",
    "    print(row)"
   ]
  },
  {
   "cell_type": "code",
   "execution_count": null,
   "id": "8e7c43c6",
   "metadata": {},
   "outputs": [],
   "source": [
    "write_query_to_file(QUERY_3, \"question_3.sql\")"
   ]
  },
  {
   "cell_type": "code",
   "execution_count": null,
   "id": "48d2e184",
   "metadata": {},
   "outputs": [],
   "source": [
    "#Q4) What were the top 10 days with the highest number of hired rides for 2009, \n",
    "# and what was the average distance for each day?\n",
    "\n",
    "QUERY_4 = \"\"\"\n",
    "SELECT\n",
    "    date,\n",
    "    COUNT (*) as no_of_trip,\n",
    "    AVG (trip_distance)\n",
    "FROM (\n",
    "    SELECT date(tpep_pickup_datetime) AS date, trip_distance\n",
    "    FROM taxi_trips\n",
    "    UNION ALL\n",
    "    SELECT date(pickup_datetime) AS date, trip_distance\n",
    "    FROM uber_trips\n",
    ")\n",
    "WHERE date between '2009-01-01' AND '2009-12-31'\n",
    "GROUP BY date\n",
    "ORDER BY no_of_trip DESC\n",
    "LIMIT 10\n",
    "\"\"\""
   ]
  },
  {
   "cell_type": "code",
   "execution_count": null,
   "id": "81daf27f",
   "metadata": {},
   "outputs": [],
   "source": [
    "# TOBEDELETED Read Data\n",
    "with connection:\n",
    "    result = connection.execute(QUERY_4)\n",
    "\n",
    "for row in result:\n",
    "    print(row)"
   ]
  },
  {
   "cell_type": "code",
   "execution_count": null,
   "id": "64503f19",
   "metadata": {},
   "outputs": [],
   "source": [
    "write_query_to_file(QUERY_4, \"question_4.sql\")"
   ]
  },
  {
   "cell_type": "code",
   "execution_count": null,
   "id": "afee316d",
   "metadata": {},
   "outputs": [],
   "source": [
    "#Q5) Which 10 days in 2014 were the windiest, and how many hired trips were made on those days?\n",
    "\n",
    "QUERY_5 = \"\"\"\n",
    "WITH\n",
    "weather AS (\n",
    "SELECT\n",
    "    date(DATE) as date,\n",
    "    DailyAverageWindSpeed\n",
    "FROM\n",
    "    daily_weather\n",
    "WHERE date between '2014-01-01' AND '2014-12-31'\n",
    "ORDER BY DailyAverageWindSpeed DESC\n",
    "LIMIT 10),\n",
    "\n",
    "trip AS (\n",
    "SELECT\n",
    "    date,\n",
    "    COUNT (*) as no_of_trip\n",
    "FROM (\n",
    "    SELECT date(tpep_pickup_datetime) AS date\n",
    "    FROM taxi_trips\n",
    "    UNION ALL\n",
    "    SELECT date(pickup_datetime) AS date\n",
    "    FROM uber_trips\n",
    "    WHERE date between '2014-01-01' AND '2014-12-31'\n",
    ")\n",
    "GROUP BY date\n",
    ")\n",
    "\n",
    "\n",
    "SELECT\n",
    "    weather.*,\n",
    "    trip.no_of_trip\n",
    "FROM\n",
    "    weather\n",
    "LEFT JOIN trip\n",
    "ON weather.date = trip.date\n",
    "\"\"\""
   ]
  },
  {
   "cell_type": "code",
   "execution_count": null,
   "id": "13876397",
   "metadata": {},
   "outputs": [],
   "source": [
    "# TOBEDELETED Read Data\n",
    "with connection:\n",
    "    result = connection.execute(QUERY_5)\n",
    "\n",
    "for row in result:\n",
    "    print(row)"
   ]
  },
  {
   "cell_type": "code",
   "execution_count": null,
   "id": "5b0c7cd7",
   "metadata": {},
   "outputs": [],
   "source": [
    "write_query_to_file(QUERY_5, \"question_5.sql\")"
   ]
  },
  {
   "cell_type": "code",
   "execution_count": null,
   "id": "628bacbf",
   "metadata": {},
   "outputs": [],
   "source": [
    "#Q6) During Hurricane Sandy in NYC (Oct 29-30, 2012) and the week leading up to it, \n",
    "# how many trips were taken each hour, and for each hour, \n",
    "# how much precipitation did NYC receive and what was the sustained wind speed?\n",
    "#starting 22nd Oct\n",
    "\n",
    "QUERY_6 = \"\"\"\n",
    "WITH\n",
    "weather AS (\n",
    "SELECT\n",
    "    strftime('%H', DATE) AS time,\n",
    "    sum(HourlyPrecipitation) as Precipitation,\n",
    "    avg(HourlyWindSpeed) as Wind_Speed\n",
    "FROM\n",
    "    hourly_weather\n",
    "WHERE date between '2014-10-24' AND '2014-10-30'\n",
    "GROUP BY time\n",
    "),\n",
    "\n",
    "trip AS (\n",
    "SELECT\n",
    "    time,\n",
    "    COUNT (*) as no_of_trip\n",
    "FROM(\n",
    "    SELECT \n",
    "        date(tpep_pickup_datetime) AS date, \n",
    "        strftime('%H', tpep_pickup_datetime) AS time\n",
    "    FROM taxi_trips\n",
    "    WHERE date between '2014-10-24' AND '2014-10-30'\n",
    "    UNION ALL\n",
    "    SELECT \n",
    "        date(pickup_datetime) AS date, \n",
    "        strftime('%H', pickup_datetime) AS time\n",
    "    FROM uber_trips\n",
    "    WHERE date between '2014-10-24' AND '2014-10-30'\n",
    ")\n",
    "GROUP BY time\n",
    ")\n",
    "\n",
    "\n",
    "SELECT\n",
    "    weather.time,\n",
    "    trip.no_of_trip,\n",
    "    weather.Precipitation,\n",
    "    weather.Wind_Speed\n",
    "FROM\n",
    "    weather\n",
    "LEFT JOIN trip\n",
    "ON weather.time = trip.time\n",
    "\"\"\"\n",
    "\n",
    "#weather.time,\n",
    " #   weather.Precipitation,\n",
    "  #  weather.wind_speed"
   ]
  },
  {
   "cell_type": "code",
   "execution_count": null,
   "id": "0018ead1",
   "metadata": {},
   "outputs": [],
   "source": [
    "QUERY_6 = \"\"\"\n",
    "SELECT\n",
    "    strftime('%H', DATE) AS time,\n",
    "    sum(HourlyPrecipitation) as Precipitation,\n",
    "    avg(HourlyWindSpeed) as Wind_Speed\n",
    "FROM\n",
    "    hourly_weather\n",
    "WHERE date between '2014-10-24' AND '2014-10-30'\n",
    "GROUP BY time\n",
    "\"\"\""
   ]
  },
  {
   "cell_type": "code",
   "execution_count": null,
   "id": "26b8f17d",
   "metadata": {},
   "outputs": [],
   "source": [
    "# TOBEDELETED Read Data\n",
    "with connection:\n",
    "    result = connection.execute(QUERY_6)\n",
    "\n",
    "for row in result:\n",
    "    print(row)"
   ]
  },
  {
   "cell_type": "code",
   "execution_count": null,
   "id": "7d9a644c",
   "metadata": {},
   "outputs": [],
   "source": []
  },
  {
   "cell_type": "markdown",
   "id": "a13ced42",
   "metadata": {},
   "source": [
    "## Part 4: Visualizing the Data\n",
    "\n",
    "_A checklist of requirements to keep you on track. Remove this whole cell before submitting the project. The order of these tasks aren't necessarily the order in which they need to be done. It's okay to do them in an order that makes sense to you._\n",
    "\n",
    "* [ ] Create an appropriate visualization for the first query/question in part 3\n",
    "* [ ] Create a visualization that shows the average distance traveled per month (regardless of year - so group by each month). Include the 90% confidence interval around the mean in the visualization\n",
    "* [ ] Define three lat/long coordinate boxes around the three major New York airports: LGA, JFK, and EWR (you can use bboxfinder to help). Create a visualization that compares what day of the week was most popular for drop offs for each airport.\n",
    "* [ ] Create a heatmap of all hired trips over a map of the area. Consider using KeplerGL or another library that helps generate geospatial visualizations.\n",
    "* [ ] Create a scatter plot that compares tip amount versus distance.\n",
    "* [ ] Create another scatter plot that compares tip amount versus precipitation amount.\n",
    "\n",
    "_Be sure these cells are executed so that the visualizations are rendered when the notebook is submitted._"
   ]
  },
  {
   "cell_type": "markdown",
   "id": "6d9eef42",
   "metadata": {},
   "source": [
    "### Visualization N\n",
    "\n",
    "_**TODO:** Write some prose that tells the reader what you're about to do here._\n",
    "\n",
    "_Repeat for each visualization._\n",
    "\n",
    "_The example below makes use of the `matplotlib` library. There are other libraries, including `pandas` built-in plotting library, kepler for geospatial data representation, `seaborn`, and others._"
   ]
  },
  {
   "cell_type": "code",
   "execution_count": null,
   "id": "0de8394c",
   "metadata": {},
   "outputs": [],
   "source": [
    "# use a more descriptive name for your function\n",
    "def plot_visual_n(dataframe):\n",
    "    figure, axes = plt.subplots(figsize=(20, 10))\n",
    "    \n",
    "    values = \"...\"  # use the dataframe to pull out values needed to plot\n",
    "    \n",
    "    # you may want to use matplotlib to plot your visualizations;\n",
    "    # there are also many other plot types (other \n",
    "    # than axes.plot) you can use\n",
    "    axes.plot(values, \"...\")\n",
    "    # there are other methods to use to label your axes, to style \n",
    "    # and set up axes labels, etc\n",
    "    axes.set_title(\"Some Descriptive Title\")\n",
    "    \n",
    "    plt.show()"
   ]
  },
  {
   "cell_type": "code",
   "execution_count": null,
   "id": "847ced2f",
   "metadata": {},
   "outputs": [],
   "source": [
    "def get_data_for_visual_n():\n",
    "    # Query SQL database for the data needed.\n",
    "    # You can put the data queried into a pandas dataframe, if you wish\n",
    "    raise NotImplemented()"
   ]
  },
  {
   "cell_type": "code",
   "execution_count": null,
   "id": "3c63e845",
   "metadata": {},
   "outputs": [],
   "source": [
    "some_dataframe = get_data_for_visual_n()\n",
    "plot_visual_n(some_dataframe)"
   ]
  }
 ],
 "metadata": {
  "kernelspec": {
   "display_name": "Python 3 (ipykernel)",
   "language": "python",
   "name": "python3"
  },
  "language_info": {
   "codemirror_mode": {
    "name": "ipython",
    "version": 3
   },
   "file_extension": ".py",
   "mimetype": "text/x-python",
   "name": "python",
   "nbconvert_exporter": "python",
   "pygments_lexer": "ipython3",
   "version": "3.9.13"
  }
 },
 "nbformat": 4,
 "nbformat_minor": 5
}
